{
 "cells": [
  {
   "cell_type": "code",
   "execution_count": 1,
   "metadata": {},
   "outputs": [],
   "source": [
    "import syft as sy"
   ]
  },
  {
   "cell_type": "code",
   "execution_count": 5,
   "metadata": {},
   "outputs": [
    {
     "name": "stdout",
     "output_type": "stream",
     "text": [
      "🎤  🎸  ♪♪♪ Joining Duet ♫♫♫  🎻  🎹\n",
      "\n",
      "♫♫♫ >\u001b[93m DISCLAIMER\u001b[0m: \u001b[1mDuet is an experimental feature currently in beta.\n",
      "♫♫♫ > Use at your own risk.\n",
      "\u001b[0m\n",
      "\u001b[1m\n",
      "    > ❤️ \u001b[91mLove\u001b[0m \u001b[92mDuet\u001b[0m? \u001b[93mPlease\u001b[0m \u001b[94mconsider\u001b[0m \u001b[95msupporting\u001b[0m \u001b[91mour\u001b[0m \u001b[93mcommunity!\u001b[0m\n",
      "    > https://github.com/sponsors/OpenMined\u001b[1m\n",
      "\n",
      "♫♫♫ > Punching through firewall to OpenGrid Network Node at:\n",
      "♫♫♫ > http://ec2-18-218-7-180.us-east-2.compute.amazonaws.com:5000\n",
      "♫♫♫ >\n",
      "♫♫♫ > ...waiting for response from OpenGrid Network... \n",
      "♫♫♫ > \u001b[92mDONE!\u001b[0m\n"
     ]
    },
    {
     "ename": "Exception",
     "evalue": "failed to load client ID",
     "output_type": "error",
     "traceback": [
      "\u001b[0;31m---------------------------------------------------------------------------\u001b[0m",
      "\u001b[0;31mException\u001b[0m                                 Traceback (most recent call last)",
      "\u001b[1;32m/home/wonseok/2022_edge_cloud_collabortative_learning/notebooks/simulation20220418/server.ipynb Cell 2'\u001b[0m in \u001b[0;36m<cell line: 1>\u001b[0;34m()\u001b[0m\n\u001b[0;32m----> <a href='vscode-notebook-cell://ssh-remote%2B61.252.54.67/home/wonseok/2022_edge_cloud_collabortative_learning/notebooks/simulation20220418/server.ipynb#ch0000001vscode-remote?line=0'>1</a>\u001b[0m duet1 \u001b[39m=\u001b[39m sy\u001b[39m.\u001b[39;49mjoin_duet(loopback\u001b[39m=\u001b[39;49m\u001b[39mTrue\u001b[39;49;00m)\n",
      "File \u001b[0;32m~/.pyenv/versions/3.8.12/envs/2022_edge_cloud_collaborative_learning/lib/python3.8/site-packages/syft/grid/duet/__init__.py:284\u001b[0m, in \u001b[0;36mjoin_duet\u001b[0;34m(target_id, network_url, loopback, credential_exchanger)\u001b[0m\n\u001b[1;32m    <a href='file:///home/wonseok/.pyenv/versions/3.8.12/envs/2022_edge_cloud_collaborative_learning/lib/python3.8/site-packages/syft/grid/duet/__init__.py?line=279'>280</a>\u001b[0m \u001b[39melse\u001b[39;00m:\n\u001b[1;32m    <a href='file:///home/wonseok/.pyenv/versions/3.8.12/envs/2022_edge_cloud_collaborative_learning/lib/python3.8/site-packages/syft/grid/duet/__init__.py?line=280'>281</a>\u001b[0m     \u001b[39m# we have target_id so we set it using set_responder_id\u001b[39;00m\n\u001b[1;32m    <a href='file:///home/wonseok/.pyenv/versions/3.8.12/envs/2022_edge_cloud_collaborative_learning/lib/python3.8/site-packages/syft/grid/duet/__init__.py?line=281'>282</a>\u001b[0m     credential_exchanger\u001b[39m.\u001b[39mset_responder_id(target_id)\n\u001b[0;32m--> <a href='file:///home/wonseok/.pyenv/versions/3.8.12/envs/2022_edge_cloud_collaborative_learning/lib/python3.8/site-packages/syft/grid/duet/__init__.py?line=283'>284</a>\u001b[0m target_id \u001b[39m=\u001b[39m credential_exchanger\u001b[39m.\u001b[39;49mset_role(join\u001b[39m=\u001b[39;49m\u001b[39mTrue\u001b[39;49;00m)\u001b[39m.\u001b[39;49mrun(\n\u001b[1;32m    <a href='file:///home/wonseok/.pyenv/versions/3.8.12/envs/2022_edge_cloud_collaborative_learning/lib/python3.8/site-packages/syft/grid/duet/__init__.py?line=284'>285</a>\u001b[0m     credential\u001b[39m=\u001b[39;49msignaling_client\u001b[39m.\u001b[39;49mduet_id\n\u001b[1;32m    <a href='file:///home/wonseok/.pyenv/versions/3.8.12/envs/2022_edge_cloud_collaborative_learning/lib/python3.8/site-packages/syft/grid/duet/__init__.py?line=285'>286</a>\u001b[0m )\n\u001b[1;32m    <a href='file:///home/wonseok/.pyenv/versions/3.8.12/envs/2022_edge_cloud_collaborative_learning/lib/python3.8/site-packages/syft/grid/duet/__init__.py?line=287'>288</a>\u001b[0m duet \u001b[39m=\u001b[39m WebRTCDuet(\n\u001b[1;32m    <a href='file:///home/wonseok/.pyenv/versions/3.8.12/envs/2022_edge_cloud_collaborative_learning/lib/python3.8/site-packages/syft/grid/duet/__init__.py?line=288'>289</a>\u001b[0m     node\u001b[39m=\u001b[39mmy_domain,\n\u001b[1;32m    <a href='file:///home/wonseok/.pyenv/versions/3.8.12/envs/2022_edge_cloud_collaborative_learning/lib/python3.8/site-packages/syft/grid/duet/__init__.py?line=289'>290</a>\u001b[0m     target_id\u001b[39m=\u001b[39mtarget_id,\n\u001b[1;32m    <a href='file:///home/wonseok/.pyenv/versions/3.8.12/envs/2022_edge_cloud_collaborative_learning/lib/python3.8/site-packages/syft/grid/duet/__init__.py?line=290'>291</a>\u001b[0m     signaling_client\u001b[39m=\u001b[39msignaling_client,\n\u001b[1;32m    <a href='file:///home/wonseok/.pyenv/versions/3.8.12/envs/2022_edge_cloud_collaborative_learning/lib/python3.8/site-packages/syft/grid/duet/__init__.py?line=291'>292</a>\u001b[0m     offer\u001b[39m=\u001b[39m\u001b[39mFalse\u001b[39;00m,\n\u001b[1;32m    <a href='file:///home/wonseok/.pyenv/versions/3.8.12/envs/2022_edge_cloud_collaborative_learning/lib/python3.8/site-packages/syft/grid/duet/__init__.py?line=292'>293</a>\u001b[0m )\n\u001b[1;32m    <a href='file:///home/wonseok/.pyenv/versions/3.8.12/envs/2022_edge_cloud_collaborative_learning/lib/python3.8/site-packages/syft/grid/duet/__init__.py?line=293'>294</a>\u001b[0m info(\u001b[39mprint\u001b[39m\u001b[39m=\u001b[39m\u001b[39mTrue\u001b[39;00m)\n",
      "File \u001b[0;32m~/.pyenv/versions/3.8.12/envs/2022_edge_cloud_collaborative_learning/lib/python3.8/site-packages/syft/grid/duet/exchange_ids.py:123\u001b[0m, in \u001b[0;36mOpenGridTokenFileExchanger.run\u001b[0;34m(self, credential)\u001b[0m\n\u001b[1;32m    <a href='file:///home/wonseok/.pyenv/versions/3.8.12/envs/2022_edge_cloud_collaborative_learning/lib/python3.8/site-packages/syft/grid/duet/exchange_ids.py?line=120'>121</a>\u001b[0m \u001b[39mself\u001b[39m\u001b[39m.\u001b[39mcredential \u001b[39m=\u001b[39m credential\n\u001b[1;32m    <a href='file:///home/wonseok/.pyenv/versions/3.8.12/envs/2022_edge_cloud_collaborative_learning/lib/python3.8/site-packages/syft/grid/duet/exchange_ids.py?line=121'>122</a>\u001b[0m \u001b[39mif\u001b[39;00m \u001b[39mself\u001b[39m\u001b[39m.\u001b[39mjoin:\n\u001b[0;32m--> <a href='file:///home/wonseok/.pyenv/versions/3.8.12/envs/2022_edge_cloud_collaborative_learning/lib/python3.8/site-packages/syft/grid/duet/exchange_ids.py?line=122'>123</a>\u001b[0m     \u001b[39mreturn\u001b[39;00m \u001b[39mself\u001b[39;49m\u001b[39m.\u001b[39;49m_client_exchange(credential\u001b[39m=\u001b[39;49m\u001b[39mself\u001b[39;49m\u001b[39m.\u001b[39;49mcredential)\n\u001b[1;32m    <a href='file:///home/wonseok/.pyenv/versions/3.8.12/envs/2022_edge_cloud_collaborative_learning/lib/python3.8/site-packages/syft/grid/duet/exchange_ids.py?line=123'>124</a>\u001b[0m \u001b[39melse\u001b[39;00m:\n\u001b[1;32m    <a href='file:///home/wonseok/.pyenv/versions/3.8.12/envs/2022_edge_cloud_collaborative_learning/lib/python3.8/site-packages/syft/grid/duet/exchange_ids.py?line=124'>125</a>\u001b[0m     \u001b[39mreturn\u001b[39;00m \u001b[39mself\u001b[39m\u001b[39m.\u001b[39m_server_exchange(credential\u001b[39m=\u001b[39m\u001b[39mself\u001b[39m\u001b[39m.\u001b[39mcredential)\n",
      "File \u001b[0;32m~/.pyenv/versions/3.8.12/envs/2022_edge_cloud_collaborative_learning/lib/python3.8/site-packages/syft/grid/duet/exchange_ids.py:196\u001b[0m, in \u001b[0;36mOpenGridTokenFileExchanger._client_exchange\u001b[0;34m(self, credential)\u001b[0m\n\u001b[1;32m    <a href='file:///home/wonseok/.pyenv/versions/3.8.12/envs/2022_edge_cloud_collaborative_learning/lib/python3.8/site-packages/syft/grid/duet/exchange_ids.py?line=192'>193</a>\u001b[0m         time\u001b[39m.\u001b[39msleep(\u001b[39m0.5\u001b[39m)\n\u001b[1;32m    <a href='file:///home/wonseok/.pyenv/versions/3.8.12/envs/2022_edge_cloud_collaborative_learning/lib/python3.8/site-packages/syft/grid/duet/exchange_ids.py?line=194'>195</a>\u001b[0m \u001b[39mif\u001b[39;00m server_id \u001b[39m==\u001b[39m \u001b[39m\"\u001b[39m\u001b[39m\"\u001b[39m:\n\u001b[0;32m--> <a href='file:///home/wonseok/.pyenv/versions/3.8.12/envs/2022_edge_cloud_collaborative_learning/lib/python3.8/site-packages/syft/grid/duet/exchange_ids.py?line=195'>196</a>\u001b[0m     \u001b[39mraise\u001b[39;00m \u001b[39mException\u001b[39;00m(\u001b[39m\"\u001b[39m\u001b[39mfailed to load client ID\u001b[39m\u001b[39m\"\u001b[39m)\n\u001b[1;32m    <a href='file:///home/wonseok/.pyenv/versions/3.8.12/envs/2022_edge_cloud_collaborative_learning/lib/python3.8/site-packages/syft/grid/duet/exchange_ids.py?line=197'>198</a>\u001b[0m loopback_config[\u001b[39m\"\u001b[39m\u001b[39mclient_id\u001b[39m\u001b[39m\"\u001b[39m] \u001b[39m=\u001b[39m credential\n\u001b[1;32m    <a href='file:///home/wonseok/.pyenv/versions/3.8.12/envs/2022_edge_cloud_collaborative_learning/lib/python3.8/site-packages/syft/grid/duet/exchange_ids.py?line=199'>200</a>\u001b[0m \u001b[39mwith\u001b[39;00m \u001b[39mopen\u001b[39m(\u001b[39mself\u001b[39m\u001b[39m.\u001b[39mfile_path, \u001b[39m\"\u001b[39m\u001b[39mw\u001b[39m\u001b[39m\"\u001b[39m) \u001b[39mas\u001b[39;00m f:\n",
      "\u001b[0;31mException\u001b[0m: failed to load client ID"
     ]
    }
   ],
   "source": [
    "duet1 = sy.join_duet(loopback=True)"
   ]
  },
  {
   "cell_type": "code",
   "execution_count": null,
   "metadata": {},
   "outputs": [],
   "source": [
    "duet2 = sy.join_duet(loopback=True)"
   ]
  },
  {
   "cell_type": "code",
   "execution_count": 6,
   "metadata": {},
   "outputs": [],
   "source": [
    "import os, sys\n",
    "os.sys.path.append('/home/wonseok/2022_edge_cloud_collabortative_learning')\n",
    "\n",
    "from cloud2edge.models.server import ServerNN"
   ]
  },
  {
   "cell_type": "code",
   "execution_count": 8,
   "metadata": {},
   "outputs": [],
   "source": [
    "server1 = ServerNN(2,80)\n",
    "server2 = ServerNN(2,80)"
   ]
  },
  {
   "cell_type": "code",
   "execution_count": null,
   "metadata": {},
   "outputs": [],
   "source": []
  }
 ],
 "metadata": {
  "interpreter": {
   "hash": "671e2da92513646fff41185c4974530b9e703d9bd45b1850f2b39178478e67e5"
  },
  "kernelspec": {
   "display_name": "Python 3.8.12 64-bit ('2022_edge_cloud_collaborative_learning')",
   "language": "python",
   "name": "python3"
  },
  "language_info": {
   "codemirror_mode": {
    "name": "ipython",
    "version": 3
   },
   "file_extension": ".py",
   "mimetype": "text/x-python",
   "name": "python",
   "nbconvert_exporter": "python",
   "pygments_lexer": "ipython3",
   "version": "3.8.12"
  },
  "orig_nbformat": 4
 },
 "nbformat": 4,
 "nbformat_minor": 2
}
